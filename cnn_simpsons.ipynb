{
  "nbformat": 4,
  "nbformat_minor": 0,
  "metadata": {
    "colab": {
      "name": "cnn_simpsons.ipynb",
      "version": "0.3.2",
      "provenance": [],
      "collapsed_sections": [],
      "include_colab_link": true
    },
    "kernelspec": {
      "name": "python3",
      "display_name": "Python 3"
    },
    "accelerator": "GPU"
  },
  "cells": [
    {
      "cell_type": "markdown",
      "metadata": {
        "id": "view-in-github",
        "colab_type": "text"
      },
      "source": [
        "[View in Colaboratory](https://colab.research.google.com/github/tonychen233/colab_tensorflow/blob/master/cnn_simpsons.ipynb)"
      ]
    },
    {
      "metadata": {
        "id": "lVS2ckpUBi92",
        "colab_type": "text"
      },
      "cell_type": "markdown",
      "source": [
        "**Connect to Google Drive**"
      ]
    },
    {
      "metadata": {
        "id": "s5l6H0j8lJc_",
        "colab_type": "code",
        "colab": {
          "base_uri": "https://localhost:8080/",
          "height": 379
        },
        "outputId": "a0069e07-0375-4d46-aaa6-db06579cda60"
      },
      "cell_type": "code",
      "source": [
        "# 授权绑定Google Drive\n",
        "!apt-get install -y -qq software-properties-common python-software-properties module-init-tools\n",
        "!add-apt-repository -y ppa:alessandro-strada/ppa 2>&1 > /dev/null\n",
        "!apt-get update -qq 2>&1 > /dev/null\n",
        "!apt-get -y install -qq google-drive-ocamlfuse fuse\n",
        "from google.colab import auth\n",
        "auth.authenticate_user()\n",
        "from oauth2client.client import GoogleCredentials\n",
        "creds = GoogleCredentials.get_application_default()\n",
        "import getpass\n",
        "!google-drive-ocamlfuse -headless -id={creds.client_id} -secret={creds.client_secret} < /dev/null 2>&1 | grep URL\n",
        "vcode = getpass.getpass()\n",
        "!echo {vcode} | google-drive-ocamlfuse -headless -id={creds.client_id} -secret={creds.client_secret}\n"
      ],
      "execution_count": 1,
      "outputs": [
        {
          "output_type": "stream",
          "text": [
            "E: Package 'python-software-properties' has no installation candidate\n",
            "Selecting previously unselected package libfuse2:amd64.\n",
            "(Reading database ... 22280 files and directories currently installed.)\n",
            "Preparing to unpack .../libfuse2_2.9.7-1ubuntu1_amd64.deb ...\n",
            "Unpacking libfuse2:amd64 (2.9.7-1ubuntu1) ...\n",
            "Selecting previously unselected package fuse.\n",
            "Preparing to unpack .../fuse_2.9.7-1ubuntu1_amd64.deb ...\n",
            "Unpacking fuse (2.9.7-1ubuntu1) ...\n",
            "Selecting previously unselected package google-drive-ocamlfuse.\n",
            "Preparing to unpack .../google-drive-ocamlfuse_0.7.0-0ubuntu1~ubuntu18.04.1_amd64.deb ...\n",
            "Unpacking google-drive-ocamlfuse (0.7.0-0ubuntu1~ubuntu18.04.1) ...\n",
            "Setting up libfuse2:amd64 (2.9.7-1ubuntu1) ...\n",
            "Processing triggers for libc-bin (2.27-3ubuntu1) ...\n",
            "Setting up fuse (2.9.7-1ubuntu1) ...\n",
            "Setting up google-drive-ocamlfuse (0.7.0-0ubuntu1~ubuntu18.04.1) ...\n",
            "Please, open the following URL in a web browser: https://accounts.google.com/o/oauth2/auth?client_id=32555940559.apps.googleusercontent.com&redirect_uri=urn%3Aietf%3Awg%3Aoauth%3A2.0%3Aoob&scope=https%3A%2F%2Fwww.googleapis.com%2Fauth%2Fdrive&response_type=code&access_type=offline&approval_prompt=force\n",
            "··········\n",
            "Please, open the following URL in a web browser: https://accounts.google.com/o/oauth2/auth?client_id=32555940559.apps.googleusercontent.com&redirect_uri=urn%3Aietf%3Awg%3Aoauth%3A2.0%3Aoob&scope=https%3A%2F%2Fwww.googleapis.com%2Fauth%2Fdrive&response_type=code&access_type=offline&approval_prompt=force\n",
            "Please enter the verification code: Access token retrieved correctly.\n"
          ],
          "name": "stdout"
        }
      ]
    },
    {
      "metadata": {
        "id": "q7epzIdc957i",
        "colab_type": "code",
        "colab": {}
      },
      "cell_type": "code",
      "source": [
        "# 指定Google Drive云端硬盘的根目录，名为drive\n",
        "!mkdir -p drive\n",
        "!google-drive-ocamlfuse drive"
      ],
      "execution_count": 0,
      "outputs": []
    },
    {
      "metadata": {
        "id": "U2uzHTg--Hib",
        "colab_type": "code",
        "colab": {}
      },
      "cell_type": "code",
      "source": [
        "# 指定当前的工作目录\n",
        "import os\n",
        "\n",
        "# 此处为google drive中的文件路径,drive为之前指定的工作根目录，要加上\n",
        "os.chdir(\"drive/Project/Data/CNN_Simpsons/\") "
      ],
      "execution_count": 0,
      "outputs": []
    },
    {
      "metadata": {
        "id": "Uu0bnipA1hrJ",
        "colab_type": "code",
        "colab": {
          "base_uri": "https://localhost:8080/",
          "height": 35
        },
        "outputId": "d2362e73-af70-45f9-ecdc-cb0c92ec7e2e"
      },
      "cell_type": "code",
      "source": [
        "!ls\n"
      ],
      "execution_count": 4,
      "outputs": [
        {
          "output_type": "stream",
          "text": [
            "predict  test_set  training_set\n"
          ],
          "name": "stdout"
        }
      ]
    },
    {
      "metadata": {
        "id": "lDe2TZCzAcgG",
        "colab_type": "text"
      },
      "cell_type": "markdown",
      "source": [
        "**Importing libraries**"
      ]
    },
    {
      "metadata": {
        "id": "r1oIMkS_zM77",
        "colab_type": "code",
        "colab": {
          "base_uri": "https://localhost:8080/",
          "height": 35
        },
        "outputId": "c313b5f4-b014-4aea-e944-35f18ddf005b"
      },
      "cell_type": "code",
      "source": [
        "# Importing the Keras libraries and packages\n",
        "from keras.models import Sequential\n",
        "from keras.layers import Conv2D\n",
        "from keras.layers import MaxPooling2D\n",
        "from keras.layers import Flatten\n",
        "from keras.layers import Dense\n",
        "from keras.preprocessing.image import ImageDataGenerator\n",
        "from timeit import default_timer as timer\n",
        "from keras.preprocessing import image\n",
        "import numpy as np\n",
        "import os"
      ],
      "execution_count": 5,
      "outputs": [
        {
          "output_type": "stream",
          "text": [
            "Using TensorFlow backend.\n"
          ],
          "name": "stderr"
        }
      ]
    },
    {
      "metadata": {
        "id": "bsaJne-vAtSP",
        "colab_type": "text"
      },
      "cell_type": "markdown",
      "source": [
        "**Setting Image size**\n",
        "\n",
        "Resized all the images to 128x128. Can choose a size that's greater or lower depending upon the computational power of the system."
      ]
    },
    {
      "metadata": {
        "id": "RUYmXlRJ0Bbb",
        "colab_type": "code",
        "colab": {}
      },
      "cell_type": "code",
      "source": [
        "image_height = 128\n",
        "image_width = 128"
      ],
      "execution_count": 0,
      "outputs": []
    },
    {
      "metadata": {
        "id": "T75OMvpPAzSw",
        "colab_type": "text"
      },
      "cell_type": "markdown",
      "source": [
        "**Constructing the neural network**\n",
        "\n",
        "A CNN consists of an input and an output layer, as well as multiple hidden layers. I constructed 4 hidden layers for my neural network.\n",
        "\n",
        "Convolutional layers apply a convolution operation to the input, passing the result to the next layer. The convolution emulates the response of an individual neuron to visual stimuli. Each convolutional neuron processes data only for its receptive field.\n",
        "\n",
        "Max pooling uses the maximum value from each of a cluster of neurons at the prior layer, greatly reducing the size of the image after feature extraction."
      ]
    },
    {
      "metadata": {
        "id": "SXd6vUhj0FVj",
        "colab_type": "code",
        "colab": {}
      },
      "cell_type": "code",
      "source": [
        "# Initialising the CNN\n",
        "predator = Sequential()\n",
        "# Step 1 - Convolution\n",
        "predator.add(Conv2D(64, (3, 3), activation=\"relu\", input_shape=(image_height, image_width, 3)))\n",
        "# Step 2 - Pooling\n",
        "predator.add(MaxPooling2D(pool_size = (2, 2)))\n",
        "# Adding a second convolutional layer\n",
        "predator.add(Conv2D(128, (3, 3), activation=\"relu\"))\n",
        "predator.add(MaxPooling2D(pool_size = (2, 2)))\n",
        "# Adding a third convolutional layer\n",
        "predator.add(Conv2D(256, (3, 3), activation=\"relu\"))\n",
        "predator.add(MaxPooling2D(pool_size = (2, 2)))\n",
        "# Adding a fourth convolutional layer\n",
        "predator.add(Conv2D(128, (3, 3), activation=\"relu\"))\n",
        "predator.add(MaxPooling2D(pool_size = (2, 2)))\n",
        "# Adding a fifth convolutional layer\n",
        "predator.add(Conv2D(64, (3, 3), activation=\"relu\"))\n",
        "predator.add(MaxPooling2D(pool_size = (2, 2)))\n",
        "# Step 3 - Flattening\n",
        "predator.add(Flatten())    #flattens the 3D image array to a single row array\n",
        "# Step 4 - Full connection\n",
        "predator.add(Dense(units=32, activation=\"relu\"))\n",
        "predator.add(Dense(units=10, activation=\"softmax\"))   #output layer with 10 neurons.. each corresponding to a character\n",
        "# Compiling the CNN\n",
        "predator.compile(optimizer = 'adam', loss = 'categorical_crossentropy', metrics = ['accuracy'])"
      ],
      "execution_count": 0,
      "outputs": []
    },
    {
      "metadata": {
        "id": "sllYUU0BA8jg",
        "colab_type": "text"
      },
      "cell_type": "markdown",
      "source": [
        "**Defining the training set and test set**"
      ]
    },
    {
      "metadata": {
        "id": "HsKL5WkI0ZJC",
        "colab_type": "code",
        "colab": {
          "base_uri": "https://localhost:8080/",
          "height": 53
        },
        "outputId": "e173b145-bf01-4360-a89e-402af2544512"
      },
      "cell_type": "code",
      "source": [
        "train_datagen = ImageDataGenerator(rescale = 1./255,\n",
        "                                   shear_range = 0.2,\n",
        "                                   zoom_range = 0.2,\n",
        "                                   horizontal_flip = True)\n",
        "\n",
        "#ImageDataGenerator augments images, creating multiple versions of the same image\n",
        "test_datagen = ImageDataGenerator(rescale = 1./255)\n",
        "training_set = train_datagen.flow_from_directory('training_set',\n",
        "                                                 target_size = (image_height, image_width),\n",
        "                                                 batch_size = 50,\n",
        "                                                 class_mode = 'categorical')\n",
        "test_set = test_datagen.flow_from_directory('test_set',\n",
        "                                            target_size = (image_height, image_width),\n",
        "                                            batch_size = 50,\n",
        "                                            class_mode = 'categorical')"
      ],
      "execution_count": 8,
      "outputs": [
        {
          "output_type": "stream",
          "text": [
            "Found 8000 images belonging to 10 classes.\n",
            "Found 2000 images belonging to 10 classes.\n"
          ],
          "name": "stdout"
        }
      ]
    },
    {
      "metadata": {
        "id": "ccxo1wDlBCYP",
        "colab_type": "text"
      },
      "cell_type": "markdown",
      "source": [
        "**Fitting the CNN to the images**\n",
        "\n",
        "This starts the training process. It took me close to 10 minutes for running 100 epochs to return an accuracy of more than 90 percent."
      ]
    },
    {
      "metadata": {
        "id": "7L2j-jMa_tMY",
        "colab_type": "code",
        "colab": {
          "base_uri": "https://localhost:8080/",
          "height": 3635
        },
        "outputId": "c48b12ae-0f8f-4a6d-8cda-11597fc5a3ad"
      },
      "cell_type": "code",
      "source": [
        "predator.fit_generator(training_set,\n",
        "                         steps_per_epoch = 16,\n",
        "                         epochs = 100,\n",
        "                         validation_data = test_set,\n",
        "                         validation_steps = 4)"
      ],
      "execution_count": 9,
      "outputs": [
        {
          "output_type": "stream",
          "text": [
            "Epoch 1/100\n",
            "16/16 [==============================] - 639s 40s/step - loss: 2.3078 - acc: 0.0912 - val_loss: 2.3008 - val_acc: 0.1300\n",
            "Epoch 2/100\n",
            "16/16 [==============================] - 384s 24s/step - loss: 2.3019 - acc: 0.1200 - val_loss: 2.3004 - val_acc: 0.1200\n",
            "Epoch 3/100\n",
            "16/16 [==============================] - 503s 31s/step - loss: 2.2612 - acc: 0.1412 - val_loss: 2.1784 - val_acc: 0.1750\n",
            "Epoch 4/100\n",
            "16/16 [==============================] - 511s 32s/step - loss: 2.1692 - acc: 0.1975 - val_loss: 2.0606 - val_acc: 0.2950\n",
            "Epoch 5/100\n",
            "16/16 [==============================] - 521s 33s/step - loss: 2.0860 - acc: 0.2675 - val_loss: 2.0234 - val_acc: 0.2950\n",
            "Epoch 6/100\n",
            "16/16 [==============================] - 509s 32s/step - loss: 2.0067 - acc: 0.3088 - val_loss: 2.0545 - val_acc: 0.2150\n",
            "Epoch 7/100\n",
            "16/16 [==============================] - 508s 32s/step - loss: 1.9460 - acc: 0.3162 - val_loss: 1.8731 - val_acc: 0.3400\n",
            "Epoch 8/100\n",
            "16/16 [==============================] - 517s 32s/step - loss: 1.9006 - acc: 0.3362 - val_loss: 1.8621 - val_acc: 0.3500\n",
            "Epoch 9/100\n",
            "16/16 [==============================] - 504s 31s/step - loss: 1.8537 - acc: 0.3450 - val_loss: 1.8923 - val_acc: 0.3650\n",
            "Epoch 10/100\n",
            "16/16 [==============================] - 507s 32s/step - loss: 1.8810 - acc: 0.3400 - val_loss: 1.8430 - val_acc: 0.3850\n",
            "Epoch 11/100\n",
            "16/16 [==============================] - 12s 729ms/step - loss: 1.8284 - acc: 0.3825 - val_loss: 1.7977 - val_acc: 0.3950\n",
            "Epoch 12/100\n",
            "16/16 [==============================] - 12s 737ms/step - loss: 1.7707 - acc: 0.3775 - val_loss: 1.7074 - val_acc: 0.4050\n",
            "Epoch 13/100\n",
            "16/16 [==============================] - 12s 735ms/step - loss: 1.6830 - acc: 0.4250 - val_loss: 1.7344 - val_acc: 0.4100\n",
            "Epoch 14/100\n",
            "16/16 [==============================] - 12s 725ms/step - loss: 1.6657 - acc: 0.4312 - val_loss: 1.7430 - val_acc: 0.4000\n",
            "Epoch 15/100\n",
            "16/16 [==============================] - 12s 774ms/step - loss: 1.6109 - acc: 0.4625 - val_loss: 1.5444 - val_acc: 0.4700\n",
            "Epoch 16/100\n",
            "16/16 [==============================] - 12s 727ms/step - loss: 1.5610 - acc: 0.4612 - val_loss: 1.4909 - val_acc: 0.5050\n",
            "Epoch 17/100\n",
            "16/16 [==============================] - 12s 725ms/step - loss: 1.4986 - acc: 0.5050 - val_loss: 1.4186 - val_acc: 0.5400\n",
            "Epoch 18/100\n",
            "16/16 [==============================] - 12s 722ms/step - loss: 1.4168 - acc: 0.5350 - val_loss: 1.4461 - val_acc: 0.5250\n",
            "Epoch 19/100\n",
            "16/16 [==============================] - 12s 728ms/step - loss: 1.4340 - acc: 0.5300 - val_loss: 1.3711 - val_acc: 0.5700\n",
            "Epoch 20/100\n",
            "16/16 [==============================] - 12s 779ms/step - loss: 1.5058 - acc: 0.4950 - val_loss: 1.3560 - val_acc: 0.5250\n",
            "Epoch 21/100\n",
            "16/16 [==============================] - 12s 736ms/step - loss: 1.3310 - acc: 0.5488 - val_loss: 1.3021 - val_acc: 0.5950\n",
            "Epoch 22/100\n",
            "16/16 [==============================] - 12s 743ms/step - loss: 1.4051 - acc: 0.5150 - val_loss: 1.2387 - val_acc: 0.6200\n",
            "Epoch 23/100\n",
            "16/16 [==============================] - 12s 731ms/step - loss: 1.2268 - acc: 0.5588 - val_loss: 1.3512 - val_acc: 0.5850\n",
            "Epoch 24/100\n",
            "16/16 [==============================] - 12s 734ms/step - loss: 1.1514 - acc: 0.6375 - val_loss: 1.2143 - val_acc: 0.6400\n",
            "Epoch 25/100\n",
            "16/16 [==============================] - 12s 781ms/step - loss: 1.1697 - acc: 0.5938 - val_loss: 1.2017 - val_acc: 0.5900\n",
            "Epoch 26/100\n",
            "16/16 [==============================] - 12s 725ms/step - loss: 1.1537 - acc: 0.5987 - val_loss: 1.3043 - val_acc: 0.5800\n",
            "Epoch 27/100\n",
            "16/16 [==============================] - 12s 730ms/step - loss: 1.2698 - acc: 0.5738 - val_loss: 1.2393 - val_acc: 0.6350\n",
            "Epoch 28/100\n",
            "16/16 [==============================] - 12s 737ms/step - loss: 1.2088 - acc: 0.6200 - val_loss: 1.2273 - val_acc: 0.6050\n",
            "Epoch 29/100\n",
            "16/16 [==============================] - 12s 728ms/step - loss: 1.0654 - acc: 0.6450 - val_loss: 1.0779 - val_acc: 0.6050\n",
            "Epoch 30/100\n",
            "16/16 [==============================] - 13s 782ms/step - loss: 0.9618 - acc: 0.6775 - val_loss: 1.0586 - val_acc: 0.6800\n",
            "Epoch 31/100\n",
            "16/16 [==============================] - 12s 730ms/step - loss: 1.0206 - acc: 0.6563 - val_loss: 1.0012 - val_acc: 0.6700\n",
            "Epoch 32/100\n",
            "16/16 [==============================] - 12s 727ms/step - loss: 1.0040 - acc: 0.6700 - val_loss: 1.0681 - val_acc: 0.6750\n",
            "Epoch 33/100\n",
            "16/16 [==============================] - 12s 725ms/step - loss: 0.9697 - acc: 0.6988 - val_loss: 0.9856 - val_acc: 0.6750\n",
            "Epoch 34/100\n",
            "16/16 [==============================] - 12s 737ms/step - loss: 0.9721 - acc: 0.6925 - val_loss: 1.0154 - val_acc: 0.6750\n",
            "Epoch 35/100\n",
            "16/16 [==============================] - 13s 816ms/step - loss: 0.9245 - acc: 0.6875 - val_loss: 1.0602 - val_acc: 0.6850\n",
            "Epoch 36/100\n",
            "16/16 [==============================] - 12s 738ms/step - loss: 0.9665 - acc: 0.6725 - val_loss: 0.9761 - val_acc: 0.6950\n",
            "Epoch 37/100\n",
            "16/16 [==============================] - 12s 725ms/step - loss: 0.9323 - acc: 0.6963 - val_loss: 0.9079 - val_acc: 0.7050\n",
            "Epoch 38/100\n",
            "16/16 [==============================] - 12s 733ms/step - loss: 0.8737 - acc: 0.7250 - val_loss: 0.9220 - val_acc: 0.6850\n",
            "Epoch 39/100\n",
            "16/16 [==============================] - 12s 724ms/step - loss: 0.8792 - acc: 0.7112 - val_loss: 0.8233 - val_acc: 0.7250\n",
            "Epoch 40/100\n",
            "16/16 [==============================] - 13s 787ms/step - loss: 0.9381 - acc: 0.6563 - val_loss: 0.8316 - val_acc: 0.7250\n",
            "Epoch 41/100\n",
            "16/16 [==============================] - 12s 733ms/step - loss: 0.8536 - acc: 0.7213 - val_loss: 0.8603 - val_acc: 0.7050\n",
            "Epoch 42/100\n",
            "16/16 [==============================] - 12s 739ms/step - loss: 0.7965 - acc: 0.7387 - val_loss: 0.9838 - val_acc: 0.6950\n",
            "Epoch 43/100\n",
            "16/16 [==============================] - 12s 737ms/step - loss: 0.8171 - acc: 0.7100 - val_loss: 0.9227 - val_acc: 0.7300\n",
            "Epoch 44/100\n",
            "16/16 [==============================] - 12s 736ms/step - loss: 0.7799 - acc: 0.7463 - val_loss: 0.7939 - val_acc: 0.7350\n",
            "Epoch 45/100\n",
            "16/16 [==============================] - 13s 792ms/step - loss: 0.8366 - acc: 0.7113 - val_loss: 0.7475 - val_acc: 0.7300\n",
            "Epoch 46/100\n",
            "16/16 [==============================] - 12s 730ms/step - loss: 0.7739 - acc: 0.7412 - val_loss: 0.7151 - val_acc: 0.7650\n",
            "Epoch 47/100\n",
            "16/16 [==============================] - 12s 725ms/step - loss: 0.7735 - acc: 0.7475 - val_loss: 0.7734 - val_acc: 0.7600\n",
            "Epoch 48/100\n",
            "16/16 [==============================] - 12s 727ms/step - loss: 0.7362 - acc: 0.7587 - val_loss: 0.7918 - val_acc: 0.7400\n",
            "Epoch 49/100\n",
            "16/16 [==============================] - 12s 723ms/step - loss: 0.7346 - acc: 0.7388 - val_loss: 0.6841 - val_acc: 0.7500\n",
            "Epoch 50/100\n",
            "16/16 [==============================] - 12s 770ms/step - loss: 0.6425 - acc: 0.7963 - val_loss: 0.6121 - val_acc: 0.8000\n",
            "Epoch 51/100\n",
            "16/16 [==============================] - 12s 747ms/step - loss: 0.6928 - acc: 0.7787 - val_loss: 0.6872 - val_acc: 0.7900\n",
            "Epoch 52/100\n",
            "16/16 [==============================] - 12s 742ms/step - loss: 0.6685 - acc: 0.7862 - val_loss: 0.7311 - val_acc: 0.7600\n",
            "Epoch 53/100\n",
            "16/16 [==============================] - 12s 740ms/step - loss: 0.6844 - acc: 0.7713 - val_loss: 0.6430 - val_acc: 0.7800\n",
            "Epoch 54/100\n",
            "16/16 [==============================] - 12s 740ms/step - loss: 0.6234 - acc: 0.7663 - val_loss: 0.7422 - val_acc: 0.7550\n",
            "Epoch 55/100\n",
            "16/16 [==============================] - 13s 787ms/step - loss: 0.7088 - acc: 0.7688 - val_loss: 0.7521 - val_acc: 0.7100\n",
            "Epoch 56/100\n",
            "16/16 [==============================] - 12s 736ms/step - loss: 0.6472 - acc: 0.7825 - val_loss: 0.6794 - val_acc: 0.7450\n",
            "Epoch 57/100\n",
            "16/16 [==============================] - 12s 736ms/step - loss: 0.6025 - acc: 0.7838 - val_loss: 0.6576 - val_acc: 0.7850\n",
            "Epoch 58/100\n",
            "16/16 [==============================] - 12s 736ms/step - loss: 0.6289 - acc: 0.7800 - val_loss: 0.6373 - val_acc: 0.7800\n",
            "Epoch 59/100\n",
            "16/16 [==============================] - 12s 743ms/step - loss: 0.5818 - acc: 0.8038 - val_loss: 0.7076 - val_acc: 0.7750\n",
            "Epoch 60/100\n",
            "16/16 [==============================] - 12s 777ms/step - loss: 0.6274 - acc: 0.7950 - val_loss: 0.6248 - val_acc: 0.7650\n",
            "Epoch 61/100\n",
            "16/16 [==============================] - 12s 759ms/step - loss: 0.6902 - acc: 0.7788 - val_loss: 0.7781 - val_acc: 0.7250\n",
            "Epoch 62/100\n",
            "16/16 [==============================] - 12s 751ms/step - loss: 0.5180 - acc: 0.8225 - val_loss: 0.5842 - val_acc: 0.8050\n",
            "Epoch 63/100\n",
            "16/16 [==============================] - 12s 724ms/step - loss: 0.5476 - acc: 0.8150 - val_loss: 0.5460 - val_acc: 0.8350\n",
            "Epoch 64/100\n",
            "16/16 [==============================] - 12s 738ms/step - loss: 0.5042 - acc: 0.8325 - val_loss: 0.5381 - val_acc: 0.8100\n",
            "Epoch 65/100\n",
            "16/16 [==============================] - 12s 738ms/step - loss: 0.5659 - acc: 0.8100 - val_loss: 0.5997 - val_acc: 0.7800\n",
            "Epoch 66/100\n",
            "16/16 [==============================] - 12s 765ms/step - loss: 0.6072 - acc: 0.7762 - val_loss: 0.5854 - val_acc: 0.8200\n",
            "Epoch 67/100\n",
            "16/16 [==============================] - 12s 731ms/step - loss: 0.5420 - acc: 0.8325 - val_loss: 0.6102 - val_acc: 0.8100\n",
            "Epoch 68/100\n",
            "16/16 [==============================] - 12s 726ms/step - loss: 0.4974 - acc: 0.8337 - val_loss: 0.5210 - val_acc: 0.8250\n",
            "Epoch 69/100\n",
            "16/16 [==============================] - 12s 726ms/step - loss: 0.5013 - acc: 0.8350 - val_loss: 0.6593 - val_acc: 0.7800\n",
            "Epoch 70/100\n",
            "16/16 [==============================] - 12s 727ms/step - loss: 0.4795 - acc: 0.8387 - val_loss: 0.5750 - val_acc: 0.8100\n",
            "Epoch 71/100\n",
            "16/16 [==============================] - 12s 773ms/step - loss: 0.4773 - acc: 0.8337 - val_loss: 0.6645 - val_acc: 0.8100\n",
            "Epoch 72/100\n",
            "16/16 [==============================] - 11s 719ms/step - loss: 0.4824 - acc: 0.8313 - val_loss: 0.6165 - val_acc: 0.7950\n",
            "Epoch 73/100\n",
            "16/16 [==============================] - 12s 725ms/step - loss: 0.5490 - acc: 0.8175 - val_loss: 0.5059 - val_acc: 0.8100\n",
            "Epoch 74/100\n",
            "16/16 [==============================] - 12s 728ms/step - loss: 0.5586 - acc: 0.8162 - val_loss: 0.4570 - val_acc: 0.8400\n",
            "Epoch 75/100\n",
            "16/16 [==============================] - 12s 722ms/step - loss: 0.4919 - acc: 0.8500 - val_loss: 0.4556 - val_acc: 0.8450\n",
            "Epoch 76/100\n",
            "16/16 [==============================] - 13s 787ms/step - loss: 0.4255 - acc: 0.8550 - val_loss: 0.4715 - val_acc: 0.8600\n",
            "Epoch 77/100\n",
            "16/16 [==============================] - 12s 721ms/step - loss: 0.4380 - acc: 0.8600 - val_loss: 0.5500 - val_acc: 0.8200\n",
            "Epoch 78/100\n",
            "16/16 [==============================] - 12s 736ms/step - loss: 0.4345 - acc: 0.8525 - val_loss: 0.5186 - val_acc: 0.8200\n",
            "Epoch 79/100\n",
            "16/16 [==============================] - 12s 737ms/step - loss: 0.4494 - acc: 0.8550 - val_loss: 0.6070 - val_acc: 0.8200\n",
            "Epoch 80/100\n",
            "16/16 [==============================] - 12s 723ms/step - loss: 0.5132 - acc: 0.8312 - val_loss: 0.5071 - val_acc: 0.8300\n",
            "Epoch 81/100\n",
            "16/16 [==============================] - 13s 803ms/step - loss: 0.3989 - acc: 0.8725 - val_loss: 0.6773 - val_acc: 0.7550\n",
            "Epoch 82/100\n",
            "16/16 [==============================] - 12s 726ms/step - loss: 0.4749 - acc: 0.8362 - val_loss: 0.4768 - val_acc: 0.8300\n",
            "Epoch 83/100\n",
            "16/16 [==============================] - 12s 727ms/step - loss: 0.4260 - acc: 0.8650 - val_loss: 0.4866 - val_acc: 0.8200\n",
            "Epoch 84/100\n",
            "16/16 [==============================] - 11s 712ms/step - loss: 0.4151 - acc: 0.8600 - val_loss: 0.4558 - val_acc: 0.8100\n",
            "Epoch 85/100\n",
            "16/16 [==============================] - 12s 719ms/step - loss: 0.4374 - acc: 0.8537 - val_loss: 0.4649 - val_acc: 0.8550\n",
            "Epoch 86/100\n",
            "16/16 [==============================] - 12s 773ms/step - loss: 0.3771 - acc: 0.8712 - val_loss: 0.4411 - val_acc: 0.8450\n",
            "Epoch 87/100\n",
            "16/16 [==============================] - 12s 751ms/step - loss: 0.4979 - acc: 0.8512 - val_loss: 0.4575 - val_acc: 0.8500\n",
            "Epoch 88/100\n",
            "16/16 [==============================] - 12s 760ms/step - loss: 0.4869 - acc: 0.8475 - val_loss: 0.6122 - val_acc: 0.8000\n",
            "Epoch 89/100\n",
            "16/16 [==============================] - 12s 740ms/step - loss: 0.4996 - acc: 0.8475 - val_loss: 0.6217 - val_acc: 0.7700\n",
            "Epoch 90/100\n",
            "16/16 [==============================] - 12s 730ms/step - loss: 0.4551 - acc: 0.8562 - val_loss: 0.4165 - val_acc: 0.8650\n",
            "Epoch 91/100\n",
            "16/16 [==============================] - 13s 784ms/step - loss: 0.3845 - acc: 0.8737 - val_loss: 0.3633 - val_acc: 0.8650\n",
            "Epoch 92/100\n",
            "16/16 [==============================] - 12s 738ms/step - loss: 0.3732 - acc: 0.8687 - val_loss: 0.4493 - val_acc: 0.8300\n",
            "Epoch 93/100\n",
            "16/16 [==============================] - 12s 730ms/step - loss: 0.3483 - acc: 0.8825 - val_loss: 0.4130 - val_acc: 0.8450\n",
            "Epoch 94/100\n",
            "16/16 [==============================] - 12s 730ms/step - loss: 0.3604 - acc: 0.8875 - val_loss: 0.4262 - val_acc: 0.8550\n",
            "Epoch 95/100\n",
            "16/16 [==============================] - 12s 731ms/step - loss: 0.3694 - acc: 0.8775 - val_loss: 0.4359 - val_acc: 0.8350\n",
            "Epoch 96/100\n",
            "16/16 [==============================] - 13s 782ms/step - loss: 0.3886 - acc: 0.8637 - val_loss: 0.4832 - val_acc: 0.8450\n",
            "Epoch 97/100\n",
            "16/16 [==============================] - 12s 723ms/step - loss: 0.4589 - acc: 0.8362 - val_loss: 0.4960 - val_acc: 0.8150\n",
            "Epoch 98/100\n",
            "16/16 [==============================] - 12s 730ms/step - loss: 0.3675 - acc: 0.8837 - val_loss: 0.4975 - val_acc: 0.8200\n",
            "Epoch 99/100\n",
            "16/16 [==============================] - 12s 725ms/step - loss: 0.4445 - acc: 0.8562 - val_loss: 0.4933 - val_acc: 0.8250\n",
            "Epoch 100/100\n",
            "16/16 [==============================] - 12s 741ms/step - loss: 0.3809 - acc: 0.8812 - val_loss: 0.3883 - val_acc: 0.8600\n"
          ],
          "name": "stdout"
        },
        {
          "output_type": "execute_result",
          "data": {
            "text/plain": [
              "<keras.callbacks.History at 0x7f5398e95550>"
            ]
          },
          "metadata": {
            "tags": []
          },
          "execution_count": 9
        }
      ]
    },
    {
      "metadata": {
        "id": "Jr1UDSWVBKDv",
        "colab_type": "text"
      },
      "cell_type": "markdown",
      "source": [
        "**Prediction on a new picture**\n",
        "\n",
        "The dataset also has an independent folder, predict, containing close to 500 images of the 10 characters."
      ]
    },
    {
      "metadata": {
        "id": "ebs0EkTTBLWP",
        "colab_type": "code",
        "colab": {}
      },
      "cell_type": "code",
      "source": [
        "# prediction on a new picture \n",
        "result = []\n",
        "path = 'predict'\n",
        "files = os.listdir(path)\n",
        "\n",
        "for file in files:\n",
        "    test_image = image.load_img('predict/'+file, target_size=(image_height, image_width))\n",
        "    test_image = image.img_to_array(test_image)\n",
        "    test_image = np.expand_dims(test_image, axis=0)\n",
        "\n",
        "    pred = predator.predict_on_batch(test_image)\n",
        "    result.append(pred)\n",
        "\n",
        "result = np.asarray(result)"
      ],
      "execution_count": 0,
      "outputs": []
    },
    {
      "metadata": {
        "id": "SEV-vVTwBPRv",
        "colab_type": "text"
      },
      "cell_type": "markdown",
      "source": [
        "**Generating a csv file with the results**"
      ]
    },
    {
      "metadata": {
        "id": "70slFw41BU2_",
        "colab_type": "code",
        "colab": {}
      },
      "cell_type": "code",
      "source": [
        "index = files\n",
        "import pandas as pd\n",
        "predictions = result[:, [0]][:,0]\n",
        "df = pd.DataFrame(index=index)\n",
        "\n",
        "df['bart'] = predictions[:,0]\n",
        "df['charles'] = predictions[:,1]\n",
        "df['homer'] = predictions[:,2]\n",
        "df['krusty'] = predictions[:,3]\n",
        "df['lisa'] = predictions[:,4]\n",
        "df['marge'] = predictions[:,5]\n",
        "df['milhouse'] = predictions[:,6]\n",
        "df['moe'] = predictions[:,7]\n",
        "df['ned'] = predictions[:,8]\n",
        "df['principal'] = predictions[:,9]\n",
        "\n",
        "df = df.astype(int)\n",
        "\n",
        "df.to_csv('predict/predictions.csv')"
      ],
      "execution_count": 0,
      "outputs": []
    },
    {
      "metadata": {
        "id": "IBX3LH57BYGn",
        "colab_type": "text"
      },
      "cell_type": "markdown",
      "source": [
        "**Save the trained model**"
      ]
    },
    {
      "metadata": {
        "id": "f1RkJc4BBc-o",
        "colab_type": "code",
        "colab": {}
      },
      "cell_type": "code",
      "source": [
        "#save weight\n",
        "\n",
        "predator.save_weights('predict/simpsons-CNN_V1.hdf5')"
      ],
      "execution_count": 0,
      "outputs": []
    },
    {
      "metadata": {
        "id": "Je2WuG0eG3bE",
        "colab_type": "code",
        "colab": {}
      },
      "cell_type": "code",
      "source": [
        ""
      ],
      "execution_count": 0,
      "outputs": []
    }
  ]
}